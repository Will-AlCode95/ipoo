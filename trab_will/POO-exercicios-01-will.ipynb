{
 "cells": [
  {
   "cell_type": "markdown",
   "metadata": {},
   "source": [
    "# POO - Exercícios de Interpretação e Codificação\n",
    "\n",
    "Este notebook contém 5 exercícios de interpretação de código e 5 exercícios de codificação relacionados a Programação Orientada a Objetos (POO). Os tópicos abordados incluem definição de classes, construtores, instanciação, getters e setters, e invocação de métodos."
   ]
  },
  {
   "cell_type": "markdown",
   "metadata": {},
   "source": [
    "## Parte 1: Exercícios de Interpretação de Código"
   ]
  },
  {
   "cell_type": "markdown",
   "metadata": {},
   "source": [
    "### Exercício 1: Definição de Classe com Propriedades Padrão\n",
    "\n",
    "Considere o seguinte exemplo de código:\n",
    "\n",
    "```python\n",
    "class Pessoa:\n",
    "    nome = \"Desconhecido\"\n",
    "    idade = 0\n",
    "\n",
    "p = Pessoa()\n",
    "print(p.nome, p.idade)\n",
    "```\n",
    "\n",
    "**Pergunta:** O que será exibido ao executar o código acima? Explique o motivo.\n",
    "desconhecido 0\n"
   ]
  },
  {
   "cell_type": "code",
   "execution_count": 1,
   "metadata": {},
   "outputs": [
    {
     "name": "stdout",
     "output_type": "stream",
     "text": [
      "Desconhecido 0\n"
     ]
    }
   ],
   "source": [
    "\n",
    "class Pessoa:\n",
    "    nome = \"Desconhecido\"\n",
    "    idade = 0\n",
    "\n",
    "p = Pessoa()\n",
    "print(p.nome, p.idade)"
   ]
  },
  {
   "cell_type": "markdown",
   "metadata": {},
   "source": [
    "### Exercício 2: Classe com Construtor\n",
    "\n",
    "Considere o seguinte exemplo de código:\n",
    "\n",
    "```python\n",
    "class Produto:\n",
    "    def __init__(self, nome, preco):\n",
    "        self.nome = nome\n",
    "        self.preco = preco\n",
    "\n",
    "p = Produto(\"Caneta\", 1.50)\n",
    "print(p.nome, p.preco)\n",
    "```\n",
    "\n",
    "**Pergunta:** O que será exibido ao executar o código acima? Explique como o construtor funciona.\n",
    "caneta 1.5"
   ]
  },
  {
   "cell_type": "markdown",
   "metadata": {},
   "source": [
    "### Exercício 3: Instanciação de Objetos\n",
    "\n",
    "Considere o seguinte exemplo de código:\n",
    "\n",
    "```python\n",
    "class Animal:\n",
    "    def __init__(self, especie):\n",
    "        self.especie = especie\n",
    "\n",
    "a1 = Animal(\"Cachorro\")\n",
    "a2 = Animal(\"Gato\")\n",
    "print(a1.especie, a2.especie)\n",
    "```\n",
    "\n",
    "**Pergunta:** O que será exibido ao executar o código acima? Explique como a instanciação funciona.\n",
    "cachorro gato\n"
   ]
  },
  {
   "cell_type": "code",
   "execution_count": null,
   "metadata": {},
   "outputs": [],
   "source": []
  },
  {
   "cell_type": "markdown",
   "metadata": {},
   "source": [
    "### Exercício 4: Getters e Setters\n",
    "\n",
    "Considere o seguinte exemplo de código:\n",
    "\n",
    "```python\n",
    "class Conta:\n",
    "    def __init__(self, saldo):\n",
    "        self.__saldo = saldo\n",
    "\n",
    "    def get_saldo(self):\n",
    "        return self.__saldo\n",
    "\n",
    "    def set_saldo(self, valor):\n",
    "        if valor >= 0:\n",
    "            self.__saldo = valor\n",
    "\n",
    "c = Conta(1000)\n",
    "print(c.get_saldo())\n",
    "c.set_saldo(200)\n",
    "print(c.get_saldo())\n",
    "```\n",
    "\n",
    "**Pergunta:** O que será exibido ao executar o código acima? Explique o papel dos métodos `get_saldo` e `set_saldo`."
   ]
  },
  {
   "cell_type": "code",
   "execution_count": 9,
   "metadata": {},
   "outputs": [
    {
     "name": "stdout",
     "output_type": "stream",
     "text": [
      "1000\n",
      "200\n"
     ]
    }
   ],
   "source": [
    "class Conta:\n",
    "    def __init__(self, saldo):\n",
    "        self.__saldo = saldo\n",
    "\n",
    "    def get_saldo(self):\n",
    "        return self.__saldo\n",
    "\n",
    "    def set_saldo(self, valor):\n",
    "        if valor >= 0:\n",
    "            self.__saldo = valor\n",
    "\n",
    "c = Conta(1000)\n",
    "print(c.get_saldo())\n",
    "c.set_saldo(200)\n",
    "print(c.get_saldo())"
   ]
  },
  {
   "cell_type": "markdown",
   "metadata": {},
   "source": [
    "### Exercício 5: Invocação de Métodos\n",
    "\n",
    "Considere o seguinte exemplo de código:\n",
    "\n",
    "```python\n",
    "class Calculadora:\n",
    "    def somar(self, a, b):\n",
    "        return a + b\n",
    "\n",
    "calc = Calculadora()\n",
    "resultado = calc.somar(5, 3)\n",
    "print(resultado)\n",
    "```\n",
    "\n",
    "**Pergunta:** O que será exibido ao executar o código acima? Explique como o método `somar` é invocado.\n",
    "8"
   ]
  },
  {
   "cell_type": "markdown",
   "metadata": {},
   "source": [
    "## Parte 2: Exercícios de Codificação"
   ]
  },
  {
   "cell_type": "markdown",
   "metadata": {},
   "source": [
    "### Exercício 1: Criar uma Classe com Propriedades Padrão\n",
    "\n",
    "Crie uma classe chamada `Carro` com as propriedades padrão `marca` e `ano`. Instancie um objeto dessa classe e exiba os valores das propriedades."
   ]
  },
  {
   "cell_type": "markdown",
   "metadata": {},
   "source": [
    "class Animal:\n",
    "    def __init__(self, especie):\n",
    "        self.especie = especie\n",
    "\n",
    "a1 = Animal(\"Cachorro\")\n",
    "a2 = Animal(\"Gato\")\n",
    "print(a1.especie, a2.especie)"
   ]
  },
  {
   "cell_type": "code",
   "execution_count": 17,
   "metadata": {},
   "outputs": [
    {
     "name": "stdout",
     "output_type": "stream",
     "text": [
      "Marca: Gol\n",
      "Ano: 2015\n",
      "Nome: Kawazaki\n",
      "Preço: R$10.000\n"
     ]
    }
   ],
   "source": [
    "class Carro:\n",
    "    def __init__(self, caracter):\n",
    "        self.caracter = caracter\n",
    "\n",
    "c1 = Carro(\"Marca: Gol\")\n",
    "c2 = Carro(\"Ano: 2015\")\n",
    "print(c1.caracter)\n",
    "print(c2.caracter)\n",
    "\n",
    "class Moto:\n",
    "    def __init__(self, nome, preco):\n",
    "        self.nome = nome\n",
    "        self.preco = preco\n",
    "\n",
    "m = Moto(\"Kawazaki\", 10.000)\n",
    "print(f\"Nome: {m.nome}\")\n",
    "print(f\"Preço: R${m.preco:.3f}\")"
   ]
  },
  {
   "cell_type": "markdown",
   "metadata": {},
   "source": [
    "### Exercício 2: Criar uma Classe com Construtor\n",
    "\n",
    "Crie uma classe chamada `Livro` com um construtor que receba os parâmetros `titulo` e `autor`. Instancie um objeto dessa classe e exiba os valores das propriedades.\n",
    "\n"
   ]
  },
  {
   "cell_type": "code",
   "execution_count": 19,
   "metadata": {},
   "outputs": [
    {
     "name": "stdout",
     "output_type": "stream",
     "text": [
      "Título: O Senhor dos Raccons\n",
      "Autor: Tanuke\n"
     ]
    }
   ],
   "source": [
    "class Livro:\n",
    "    def __init__(self, titulo, autor):\n",
    "        self.titulo = titulo\n",
    "        self.autor = autor\n",
    "\n",
    "l = Livro(\"O Senhor dos Raccons\", \"Tanuke\")\n",
    "print(f\"Título: {l.titulo}\")\n",
    "print(f\"Autor: {l.autor}\")"
   ]
  },
  {
   "cell_type": "markdown",
   "metadata": {},
   "source": [
    "### Exercício 3: Instanciar Objetos e Acessar Propriedades\n",
    "\n",
    "Crie uma classe chamada `Aluno` com as propriedades `nome` e `matricula`. Instancie dois objetos dessa classe com valores diferentes e exiba os valores das propriedades de cada objeto."
   ]
  },
  {
   "cell_type": "code",
   "execution_count": 20,
   "metadata": {},
   "outputs": [
    {
     "name": "stdout",
     "output_type": "stream",
     "text": [
      "Aluno 1 - Nome: Will, Matrícula: 44856\n",
      "Aluno 2 - Nome: Beto, Matrícula: 34940\n"
     ]
    }
   ],
   "source": [
    "class Aluno:\n",
    "    def __init__(self, nome, matricula):\n",
    "       self.nome = nome\n",
    "       self.matricula = matricula  \n",
    "\n",
    "a1 = Aluno (\"Will\", 44856)\n",
    "a2 = Aluno (\"Beto\", 34940) \n",
    "\n",
    "print(f\"Aluno 1 - Nome: {a1.nome}, Matrícula: {a1.matricula}\")\n",
    "print(f\"Aluno 2 - Nome: {a2.nome}, Matrícula: {a2.matricula}\")\n"
   ]
  },
  {
   "cell_type": "markdown",
   "metadata": {},
   "source": [
    "### Exercício 4: Implementar Getters e Setters\n",
    "\n",
    "Crie uma classe chamada `ContaBancaria` com uma propriedade `saldo`. Implemente métodos `get_saldo` e `set_saldo` para acessar e modificar o saldo, garantindo que o saldo nunca seja negativo."
   ]
  },
  {
   "cell_type": "markdown",
   "metadata": {},
   "source": [
    "### Exercício 5: Criar Métodos e Invocá-los\n",
    "\n",
    "Crie uma classe chamada `Retangulo` com as propriedades `largura` e `altura`. Adicione um método chamado `calcular_area` que retorna a área do retângulo. Instancie um objeto dessa classe, defina os valores de largura e altura, e exiba a área calculada."
   ]
  },
  {
   "cell_type": "code",
   "execution_count": 22,
   "metadata": {},
   "outputs": [
    {
     "name": "stdout",
     "output_type": "stream",
     "text": [
      "A área do retangulo é: 1000\n"
     ]
    }
   ],
   "source": [
    "class Retangulo:\n",
    "    def __init__(self, largura, altura):\n",
    "        self.largura = largura\n",
    "        self.altura = altura\n",
    "    \n",
    "    def calcular_retan(self):\n",
    "        return self.largura *self.altura\n",
    "\n",
    "meu_retan = Retangulo(0,0)\n",
    "\n",
    "meu_retan.largura = 20\n",
    "meu_retan.altura = 50\n",
    "area = meu_retan.calcular_retan()\n",
    "\n",
    "print(f\"A área do retangulo é: {area}\")\n",
    "    "
   ]
  }
 ],
 "metadata": {
  "kernelspec": {
   "display_name": "Python 3",
   "language": "python",
   "name": "python3"
  },
  "language_info": {
   "codemirror_mode": {
    "name": "ipython",
    "version": 3
   },
   "file_extension": ".py",
   "mimetype": "text/x-python",
   "name": "python",
   "nbconvert_exporter": "python",
   "pygments_lexer": "ipython3",
   "version": "3.12.6"
  }
 },
 "nbformat": 4,
 "nbformat_minor": 4
}
