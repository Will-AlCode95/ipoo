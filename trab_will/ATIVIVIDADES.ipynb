{
 "cells": [
  {
   "cell_type": "code",
   "execution_count": 4,
   "metadata": {},
   "outputs": [
    {
     "name": "stdout",
     "output_type": "stream",
     "text": [
      "Você digitou o número: 100\n",
      "O número é positivo.\n"
     ]
    }
   ],
   "source": [
    "numero = int(input(\"Digite um número: \"))\n",
    "\n",
    "print(f\"Você digitou o número: {numero}\")\n",
    "\n",
    "if numero > 0:\n",
    "    print(\"O número é positivo.\")\n",
    "elif numero < 0:\n",
    "    print(\"O número é negativo.\")\n",
    "else:\n",
    "    print(\"O número é zero.\")\n"
   ]
  },
  {
   "cell_type": "code",
   "execution_count": null,
   "metadata": {},
   "outputs": [],
   "source": []
  },
  {
   "cell_type": "markdown",
   "metadata": {},
   "source": [
    "#### o código verifica se um numero é positivo ou negativo ou se é zero, e depois printa o resultado na tela\n"
   ]
  },
  {
   "cell_type": "code",
   "execution_count": 5,
   "metadata": {},
   "outputs": [
    {
     "name": "stdout",
     "output_type": "stream",
     "text": [
      "É dia de semana.\n"
     ]
    }
   ],
   "source": [
    "dia = input(\"Digite o nome do dia da semana: \")\n",
    "\n",
    "if dia == \"segunda-feira\":\n",
    "    print(\"É segunda-feira, começo de semana!\")\n",
    "elif dia == \"sábado\" or dia == \"domingo\":\n",
    "    print(\"É fim de semana.\")\n",
    "else:\n",
    "    print(\"É dia de semana.\")\n"
   ]
  },
  {
   "cell_type": "markdown",
   "metadata": {},
   "source": [
    "##### o usuario digita o dia da semana e o código verifica se é segunda, sábado ou domingo, ou dia de semana, ai ele printa"
   ]
  },
  {
   "cell_type": "code",
   "execution_count": 9,
   "metadata": {},
   "outputs": [
    {
     "name": "stdout",
     "output_type": "stream",
     "text": [
      "Reprovado por falta de frequência.\n"
     ]
    }
   ],
   "source": [
    "nota = float(input(\"Digite a nota do aluno: \"))\n",
    "\n",
    "if nota >= 7:\n",
    "    print(\"Aprovado.\")\n",
    "elif nota < 4:\n",
    "    print(\"Reprovado por falta de frequência.\")\n",
    "else:\n",
    "    print(\"Reprovado.\")\n"
   ]
  },
  {
   "cell_type": "markdown",
   "metadata": {},
   "source": [
    "##### verifica se o aluno está aprovado ou reprovado"
   ]
  },
  {
   "cell_type": "markdown",
   "metadata": {},
   "source": [
    "Classe ContaBancaria com propriedades titular e saldo.\n",
    "Construtor __init__ para inicializar o titular e o saldo inicial.\n",
    "Método depositar para adicionar um valor ao saldo.\n",
    "Método sacar para subtrair um valor do saldo (com verificação de saldo insuficiente)."
   ]
  },
  {
   "cell_type": "code",
   "execution_count": null,
   "metadata": {},
   "outputs": [
    {
     "ename": "IndentationError",
     "evalue": "expected an indented block after 'if' statement on line 11 (1363265219.py, line 12)",
     "output_type": "error",
     "traceback": [
      "\u001b[1;36m  Cell \u001b[1;32mIn[18], line 12\u001b[1;36m\u001b[0m\n\u001b[1;33m    if else:\u001b[0m\n\u001b[1;37m    ^\u001b[0m\n\u001b[1;31mIndentationError\u001b[0m\u001b[1;31m:\u001b[0m expected an indented block after 'if' statement on line 11\n"
     ]
    }
   ],
   "source": [
    "class ContaBancaria:\n",
    "    def __init__(self, titular, saldo):\n",
    "       self.titular = titular\n",
    "       self.saldo = saldo \n",
    "    \n",
    "    def depositar(self, aumento):\n",
    "        self.saldo = self.saldo + aumento\n",
    "    \n",
    "    def sacar(self, diminuir):\n",
    "        self.saldo = self.saldo - diminuir\n",
    "    \n",
    "\n",
    "conta_will = ContaBancaria(\"William Ar\", 1000)\n",
    "print(f\"Nome do Cliente: {conta_will.titular}\")\n",
    "print(f\"Saldo da conta: R${conta_will.saldo}\")\n",
    "\n",
    "conta_will.depositar(500)\n",
    "print(f\"Novo saldo: R${conta_will.saldo}\")\n",
    "\n",
    "conta_will.sacar(1000)\n",
    "print(f\"Novo saldo: R${conta_will.saldo}\")\n",
    "\n",
    "conta_will.sacar(1000)\n",
    "print(f\"Novo saldo: R${conta_will.saldo}\")\n",
    "\n",
    "\n"
   ]
  },
  {
   "cell_type": "code",
   "execution_count": 27,
   "metadata": {},
   "outputs": [
    {
     "name": "stdout",
     "output_type": "stream",
     "text": [
      "Saldo atual: 1000\n",
      "Saldo após depósito: 1200\n",
      "Saldo após saque: 900\n",
      "Erro: Valor inválido para saque!\n",
      "Saldo final: 900\n"
     ]
    }
   ],
   "source": [
    "class ContaBancaria:\n",
    "    def __init__(self, saldo_inicial):\n",
    "        if saldo_inicial >= 0:\n",
    "            self.__saldo = saldo_inicial\n",
    "        else:\n",
    "            self.__saldo = 0\n",
    "            print(\"Saldo inicial inválido! Definido como 0.\")\n",
    "\n",
    "    def get_saldo(self):\n",
    "        return self.__saldo\n",
    "\n",
    "    def set_saldo(self, novo_saldo):\n",
    "        if novo_saldo >= 0:\n",
    "            self.__saldo = novo_saldo\n",
    "        else:\n",
    "            print(\"Erro: O saldo não pode ser negativo!\")\n",
    "\n",
    "    def depositar(self, aumento):\n",
    "        if aumento > 0:\n",
    "            self.__saldo += aumento\n",
    "        else:\n",
    "            print(\"Erro: Depósito precisa ser maior que zero.\")\n",
    "\n",
    "    def sacar(self, diminuir):\n",
    "        if 0 <= diminuir <= self.__saldo:\n",
    "            self.__saldo -= diminuir\n",
    "        else:\n",
    "            print(\"Erro: Valor inválido para saque!\")\n",
    "\n",
    "# Exemplo de uso\n",
    "conta = ContaBancaria(1000)\n",
    "print(\"Saldo atual:\", conta.get_saldo())\n",
    "\n",
    "conta.depositar(200)\n",
    "print(\"Saldo após depósito:\", conta.get_saldo())\n",
    "\n",
    "conta.sacar(300)\n",
    "print(\"Saldo após saque:\", conta.get_saldo())\n",
    "\n",
    "conta.sacar(2000)  # tentativa de saque maior que o saldo\n",
    "print(\"Saldo final:\", conta.get_saldo())\n",
    "\n",
    "\n"
   ]
  },
  {
   "cell_type": "code",
   "execution_count": null,
   "metadata": {},
   "outputs": [],
   "source": [
    "class Aluno:\n",
    "    nome = \"\"\n",
    "    turma = \"302\"\n",
    "    notas = []\n",
    "    situacao = \"cursando\"\n",
    "\n",
    "    def __init__(self, nome, turma):\n",
    "        self.nome = nome\n",
    "        self.turma = turma\n",
    "        self.situacao = \"cursando\"\n",
    "        self.notas = []\n",
    "        self.media = 0.0\n",
    "\n",
    "    def receber_nota(self, uma_nota):\n",
    "       self.notas\n",
    "\n",
    "    \n",
    "    def calcular_media(self):\n",
    "       total_notas = sum(self.notas)\n",
    "       if total_notas > 0:\n",
    "        self.media = total_notas / len(self.notas)\n",
    "\n",
    "\n",
    "\n",
    "\n",
    "aluno1 = Aluno(\"Will\", \"302\")\n",
    "aluno2 = Aluno (\"Gustavo\", \"402\")\n",
    "aluno3 = Aluno (\"Leo\",\"502\")"
   ]
  }
 ],
 "metadata": {
  "kernelspec": {
   "display_name": "Python 3",
   "language": "python",
   "name": "python3"
  },
  "language_info": {
   "codemirror_mode": {
    "name": "ipython",
    "version": 3
   },
   "file_extension": ".py",
   "mimetype": "text/x-python",
   "name": "python",
   "nbconvert_exporter": "python",
   "pygments_lexer": "ipython3",
   "version": "3.12.6"
  }
 },
 "nbformat": 4,
 "nbformat_minor": 2
}
