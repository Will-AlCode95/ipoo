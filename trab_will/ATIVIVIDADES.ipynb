{
 "cells": [
  {
   "cell_type": "code",
   "execution_count": 4,
   "metadata": {},
   "outputs": [
    {
     "name": "stdout",
     "output_type": "stream",
     "text": [
      "Você digitou o número: 100\n",
      "O número é positivo.\n"
     ]
    }
   ],
   "source": [
    "numero = int(input(\"Digite um número: \"))\n",
    "\n",
    "print(f\"Você digitou o número: {numero}\")\n",
    "\n",
    "if numero > 0:\n",
    "    print(\"O número é positivo.\")\n",
    "elif numero < 0:\n",
    "    print(\"O número é negativo.\")\n",
    "else:\n",
    "    print(\"O número é zero.\")\n"
   ]
  },
  {
   "cell_type": "markdown",
   "metadata": {},
   "source": [
    "#### o código verifica se um numero é positivo ou negativo ou se é zero, e depois printa o resultado na tela\n"
   ]
  },
  {
   "cell_type": "code",
   "execution_count": 5,
   "metadata": {},
   "outputs": [
    {
     "name": "stdout",
     "output_type": "stream",
     "text": [
      "É dia de semana.\n"
     ]
    }
   ],
   "source": [
    "dia = input(\"Digite o nome do dia da semana: \")\n",
    "\n",
    "if dia == \"segunda-feira\":\n",
    "    print(\"É segunda-feira, começo de semana!\")\n",
    "elif dia == \"sábado\" or dia == \"domingo\":\n",
    "    print(\"É fim de semana.\")\n",
    "else:\n",
    "    print(\"É dia de semana.\")\n"
   ]
  },
  {
   "cell_type": "markdown",
   "metadata": {},
   "source": [
    "##### o usuario digita o dia da semana e o código verifica se é segunda, sábado ou domingo, ou dia de semana, ai ele printa"
   ]
  },
  {
   "cell_type": "code",
   "execution_count": 9,
   "metadata": {},
   "outputs": [
    {
     "name": "stdout",
     "output_type": "stream",
     "text": [
      "Reprovado por falta de frequência.\n"
     ]
    }
   ],
   "source": [
    "nota = float(input(\"Digite a nota do aluno: \"))\n",
    "\n",
    "if nota >= 7:\n",
    "    print(\"Aprovado.\")\n",
    "elif nota < 4:\n",
    "    print(\"Reprovado por falta de frequência.\")\n",
    "else:\n",
    "    print(\"Reprovado.\")\n"
   ]
  },
  {
   "cell_type": "markdown",
   "metadata": {},
   "source": [
    "##### verifica se o aluno está aprovado ou reprovado"
   ]
  },
  {
   "cell_type": "markdown",
   "metadata": {},
   "source": [
    "Classe ContaBancaria com propriedades titular e saldo.\n",
    "Construtor __init__ para inicializar o titular e o saldo inicial.\n",
    "Método depositar para adicionar um valor ao saldo.\n",
    "Método sacar para subtrair um valor do saldo (com verificação de saldo insuficiente)."
   ]
  },
  {
   "cell_type": "markdown",
   "metadata": {},
   "source": [
    "class ContaBancaria:\n",
    "    def __init__(self, saldo_inicial):\n",
    "        if saldo_inicial >= 0:\n",
    "            self.__saldo = saldo_inicial\n",
    "        else:\n",
    "            self.__saldo = 0\n",
    "            print(\"Saldo inicial inválido! Definido como 0.\")\n",
    "\n",
    "    def get_saldo(self):\n",
    "        return self.__saldo\n",
    "\n",
    "    def set_saldo(self, novo_saldo):\n",
    "        if novo_saldo >= 0:\n",
    "            self.__saldo = novo_saldo\n",
    "        else:\n",
    "            print(\"Erro: O saldo não pode ser negativo!\")\n",
    "\n",
    "# Exemplo de uso\n",
    "conta = ContaBancaria(1000)\n",
    "print(\"Saldo atual:\", conta.get_saldo())\n",
    "\n",
    "conta.set_saldo(500)\n",
    "print(\"Novo saldo:\", conta.get_saldo())\n",
    "\n",
    "conta.set_saldo(-200)  # Tenta definir saldo negativo\n",
    "print(\"Saldo após tentativa inválida:\", conta.get_saldo())\n",
    "\n"
   ]
  },
  {
   "cell_type": "code",
   "execution_count": 24,
   "metadata": {},
   "outputs": [
    {
     "name": "stdout",
     "output_type": "stream",
     "text": [
      "Nome do Cliente: William Ar\n",
      "Saldo da conta: R$1000\n",
      "Novo saldo: R$1500\n",
      "Novo saldo: R$1400\n"
     ]
    }
   ],
   "source": [
    "class ContaBancaria:\n",
    "    def __init__(self, titular, saldo):\n",
    "       self.titular = titular\n",
    "       self.saldo = saldo \n",
    "    \n",
    "    def depositar(self, aumento):\n",
    "        self.saldo = self.saldo + aumento\n",
    "    \n",
    "    def sacar(self, diminuir):\n",
    "        self.saldo = self.saldo - diminuir\n",
    "\n",
    "conta_will = ContaBancaria(\"William Ar\", 1000)\n",
    "print(f\"Nome do Cliente: {conta_will.titular}\")\n",
    "print(f\"Saldo da conta: R${conta_will.saldo}\")\n",
    "\n",
    "conta_will.depositar(500)\n",
    "print(f\"Novo saldo: R${conta_will.saldo}\")\n",
    "\n",
    "conta_will.sacar(100)\n",
    "print(f\"Novo saldo: R${conta_will.saldo}\")\n"
   ]
  },
  {
   "cell_type": "markdown",
   "metadata": {},
   "source": [
    "class Carro:\n",
    "    def __init__(self, marca, modelo, velocidade):\n",
    "        self.marca = marca\n",
    "        self.modelo = modelo\n",
    "        self.velocidade = velocidade\n",
    "    \n",
    "    def acelerar(self, aumento):\n",
    "        self.velocidade = self.velocidade + aumento\n",
    "\n",
    "    def frear(self, diminuir):\n",
    "        self.velocidade = self.velocidade - diminuir\n",
    "\n",
    "meu_carro = Carro(\"Fiat\", \"Uno\", 0) # Passando a velocidade inicial (0 neste caso)\n",
    "print(f\"Velocidade inicial: {meu_carro.velocidade}\")\n",
    "\n",
    "meu_carro.acelerar(10)\n",
    "print(f\"Velocidade após acelerar: {meu_carro.velocidade}\")\n",
    "\n",
    "meu_carro.acelerar(50)\n",
    "print(f\"Velocidade após acelerar: {meu_carro.velocidade}\")\n",
    "\n",
    "meu_carro.frear(20)\n",
    "print(f\"Velocidade após diminuir: {meu_carro.velocidade}\")"
   ]
  }
 ],
 "metadata": {
  "kernelspec": {
   "display_name": "Python 3",
   "language": "python",
   "name": "python3"
  },
  "language_info": {
   "codemirror_mode": {
    "name": "ipython",
    "version": 3
   },
   "file_extension": ".py",
   "mimetype": "text/x-python",
   "name": "python",
   "nbconvert_exporter": "python",
   "pygments_lexer": "ipython3",
   "version": "3.12.6"
  }
 },
 "nbformat": 4,
 "nbformat_minor": 2
}
