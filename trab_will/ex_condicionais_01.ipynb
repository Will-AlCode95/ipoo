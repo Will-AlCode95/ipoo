{
 "cells": [
  {
   "cell_type": "markdown",
   "metadata": {},
   "source": [
    "\n",
    "### Exercício 1: Verificação de Idade\n",
    "\n",
    "**Instruções:**\n",
    "Escreva um programa que receba a idade de uma pessoa e imprima se ela é maior de idade (18 anos ou mais) ou menor de idade.\n",
    "\n",
    "**Exemplo de Entrada e Saída:**\n",
    "- Entrada: 20\n",
    "- Saída: \"Você é maior de idade.\"\n",
    "- Entrada: 15\n",
    "- Saída: \"Você é menor de idade.\"\n"
   ]
  },
  {
   "cell_type": "code",
   "execution_count": 1,
   "metadata": {},
   "outputs": [
    {
     "name": "stdout",
     "output_type": "stream",
     "text": [
      "Você é menor de idade\n"
     ]
    }
   ],
   "source": [
    "idade = float(input(\"Digite a sua idade: \"))\n",
    "\n",
    "if idade >= 18:\n",
    "    print(\"Você é maior de idade\")\n",
    "else:\n",
    "    print(\"Você é menor de idade\")"
   ]
  },
  {
   "cell_type": "markdown",
   "metadata": {},
   "source": [
    "\n",
    "### Exercício 2: Verificação de Par ou Ímpar\n",
    "\n",
    "**Instruções:**\n",
    "Escreva um programa que receba um número inteiro e imprima se ele é par ou ímpar.\n",
    "\n",
    "**Exemplo de Entrada e Saída:**\n",
    "- Entrada: 4\n",
    "- Saída: \"O número é par.\"\n",
    "- Entrada: 7\n",
    "- Saída: \"O número é ímpar.\"\n"
   ]
  },
  {
   "cell_type": "code",
   "execution_count": 23,
   "metadata": {},
   "outputs": [
    {
     "name": "stdout",
     "output_type": "stream",
     "text": [
      "O número é impar\n"
     ]
    }
   ],
   "source": [
    "Numero = int(input(\"Digite um numero: \"))\n",
    "\n",
    "if Numero % 2 == 0:\n",
    "    print(\"O Número é Par\")\n",
    "else:\n",
    "    print(\"O número é impar\")"
   ]
  },
  {
   "cell_type": "markdown",
   "metadata": {},
   "source": [
    "\n",
    "### Exercício 3: Verificação de Aprovação\n",
    "\n",
    "**Instruções:**\n",
    "Escreva um programa que receba a nota de um aluno e imprima se ele foi aprovado (nota 7 ou mais) ou reprovado (nota menor que 7).\n",
    "\n",
    "**Exemplo de Entrada e Saída:**\n",
    "- Entrada: 8\n",
    "- Saída: \"Você foi aprovado.\"\n",
    "- Entrada: 6\n",
    "- Saída: \"Você foi reprovado.\"\n"
   ]
  },
  {
   "cell_type": "code",
   "execution_count": 3,
   "metadata": {},
   "outputs": [
    {
     "name": "stdout",
     "output_type": "stream",
     "text": [
      "Aluno Reprovado\n"
     ]
    }
   ],
   "source": [
    "Nota = float(input(\"Digite a nota do Aluno\"))\n",
    "\n",
    "if Nota >= 7:\n",
    "    print(\"Aluno foi Aprovado\")\n",
    "else:\n",
    "    print(\"Aluno Reprovado\")"
   ]
  },
  {
   "cell_type": "markdown",
   "metadata": {},
   "source": [
    "\n",
    "### Exercício 4: Verificação de Palíndromo\n"
   ]
  },
  {
   "cell_type": "markdown",
   "metadata": {},
   "source": [
    "\n",
    "**Instruções:**\n",
    "Escreva um programa que receba uma string e verifique se ela é um palíndromo (lê-se da mesma forma de trás para frente). Imprima \"A string é um palíndromo.\" ou \"A string não é um palíndromo.\"\n",
    "\n",
    "**Exemplo de Entrada e Saída:**\n",
    "- Entrada: \"radar\"\n",
    "- Saída: \"A string é um palíndromo.\"\n",
    "- Entrada: \"python\"\n",
    "- Saída: \"A string não é um palíndromo.\"\n"
   ]
  },
  {
   "cell_type": "code",
   "execution_count": null,
   "metadata": {},
   "outputs": [
    {
     "name": "stdout",
     "output_type": "stream",
     "text": [
      "A string é um palíndromo.\n"
     ]
    }
   ],
   "source": [
    "# Solicita ao usuário que digite uma palavra ou frase\n",
    "texto = (\"Digite uma palavra ou frase: \")\n",
    "\n",
    "# Remove espaços e deixa tudo minúsculo para comparação\n",
    "texto_limpo = texto.replace(\" \", \"\").lower()\n",
    "\n",
    "# Verifica se o texto é igual ao seu reverso\n",
    "if texto_limpo == texto_limpo[::-1]:\n",
    "    print(\"A string é um palíndromo.\")\n",
    "else:\n",
    "    print(\"A string não é um palíndromo.\")\n"
   ]
  },
  {
   "cell_type": "markdown",
   "metadata": {},
   "source": [
    "\n",
    "### Exercício 5: Verificação de Vogal ou Consoante\n"
   ]
  },
  {
   "cell_type": "markdown",
   "metadata": {},
   "source": [
    "\n",
    "**Instruções:**\n",
    "Escreva um programa que receba um caractere e verifique se ele é uma vogal ou uma consoante. Imprima \"O caractere é uma vogal.\" ou \"O caractere é uma consoante.\"\n",
    "\n",
    "**Exemplo de Entrada e Saída:**\n",
    "- Entrada: \"a\"\n",
    "- Saída: \"O caractere é uma vogal.\"\n",
    "- Entrada: \"b\"\n",
    "- Saída: \"O caractere é uma consoante.\"\n"
   ]
  },
  {
   "cell_type": "code",
   "execution_count": null,
   "metadata": {},
   "outputs": [
    {
     "name": "stdout",
     "output_type": "stream",
     "text": [
      "Entrada inválida. Digite apenas uma letra.\n"
     ]
    }
   ],
   "source": [
    "# Recebe um caractere do usuário\n",
    "caractere = input(\"Digite uma letra: \")\n",
    "\n",
    "# Verifica se é uma letra do alfabeto\n",
    "if caractere.isalpha() and len(caractere) == 1:  #A função len() em Python é usada para obter o número de elementos em uma sequência. Quando usada com uma string, len() retorna o número de caracteres da string.\n",
    "    # A função isalpha() é um método de strings em Python que verifica se todos os caracteres da string são letras do alfabeto (ou seja, de A a Z, maiúsculas ou minúsculas)\n",
    "    caractere = caractere.lower()\n",
    "    # Converte para minúsculo para facilitar a comparação. \n",
    "    \n",
    "    # Verifica se é uma vogal\n",
    "    if caractere in 'aeiou':    #O operador in em Python é usado para verificar se um valor está presente dentro de uma sequência, como uma string, lista, tupla, ou conjunto.\n",
    "        print(\"O caractere é uma vogal.\")\n",
    "    else:\n",
    "        print(\"O caractere é uma consoante.\")\n",
    "else:\n",
    "    print(\"Entrada inválida. Digite apenas uma letra.\")\n"
   ]
  },
  {
   "cell_type": "markdown",
   "metadata": {},
   "source": [
    "\n",
    "### Exercício 6: Verificação de Senha\n"
   ]
  },
  {
   "cell_type": "markdown",
   "metadata": {},
   "source": [
    "\n",
    "**Instruções:**\n",
    "Escreva um programa que receba uma senha e verifique se ela é válida. A senha é considerada válida se tiver pelo menos 8 caracteres. Imprima \"Senha válida.\" ou \"Senha inválida.\"\n",
    "\n",
    "**Exemplo de Entrada e Saída:**\n",
    "- Entrada: \"senha123\"\n",
    "- Saída: \"Senha válida.\"\n",
    "- Entrada: \"senha\"\n",
    "- Saída: \"Senha inválida.\"\n"
   ]
  },
  {
   "cell_type": "code",
   "execution_count": 21,
   "metadata": {},
   "outputs": [
    {
     "name": "stdout",
     "output_type": "stream",
     "text": [
      "Senha cadastrada com sucesso\n"
     ]
    }
   ],
   "source": [
    "senha = input(\"Digite a senha: \")\n",
    "\n",
    "if len(senha) >= 8:\n",
    "    print(\"Senha cadastrada com sucesso\")\n",
    "else:\n",
    "    print(\"Senha inválida: utilize no minímo 8 caracteres\")\n",
    "\n"
   ]
  }
 ],
 "metadata": {
  "kernelspec": {
   "display_name": "Python 3",
   "language": "python",
   "name": "python3"
  },
  "language_info": {
   "codemirror_mode": {
    "name": "ipython",
    "version": 3
   },
   "file_extension": ".py",
   "mimetype": "text/x-python",
   "name": "python",
   "nbconvert_exporter": "python",
   "pygments_lexer": "ipython3",
   "version": "3.12.6"
  }
 },
 "nbformat": 4,
 "nbformat_minor": 2
}
